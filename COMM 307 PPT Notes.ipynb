{
 "cells": [
  {
   "cell_type": "markdown",
   "metadata": {},
   "source": [
    "# Lecture 1: Introduction to Information Systems\n"
   ]
  },
  {
   "cell_type": "markdown",
   "metadata": {},
   "source": [
    "#### Computer-Based Information Systems (CBIS)\n",
    "- are information systems that use computer technology to perform some or all of their intended tasks.\n",
    "\n",
    "##### The Basic Components of CBIS\n",
    "* **Hardware**\n",
    "* **Software**\n",
    "* **Database**\n",
    "* **Network**\n",
    "* People\n",
    "* Procedures\n",
    "\n",
    "#### Information Technology Inside an Organization\n",
    "["
   ]
  }
 ],
 "metadata": {
  "kernelspec": {
   "display_name": "Python 3",
   "language": "python",
   "name": "python3"
  },
  "language_info": {
   "codemirror_mode": {
    "name": "ipython",
    "version": 3
   },
   "file_extension": ".py",
   "mimetype": "text/x-python",
   "name": "python",
   "nbconvert_exporter": "python",
   "pygments_lexer": "ipython3",
   "version": "3.7.6"
  }
 },
 "nbformat": 4,
 "nbformat_minor": 4
}
