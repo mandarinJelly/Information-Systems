{
 "cells": [
  {
   "cell_type": "markdown",
   "metadata": {},
   "source": [
    "# Lecture 1: Introduction to Information Systems\n"
   ]
  },
  {
   "cell_type": "markdown",
   "metadata": {},
   "source": [
    "#### Computer-Based Information Systems (CBIS)\n",
    "- are information systems that use computer technology to perform some or all of their intended tasks.\n",
    "    * not all information systems are compter-based**\n",
    "- describes any form of how information flows in organizations\n",
    "\n",
    "##### The Basic Components of CBIS\n",
    "* **Hardware** - device used to process information\n",
    "* **Software** - programs that provide instruction to hardware\n",
    "* **Database** - storage of data\n",
    "* **Network** - form of connecting devices\n",
    "* People - users\n",
    "* Procedures - rules & policies that govern how systems are used\n",
    "\n",
    "*_bold: IT components/IT platform_\n",
    "\n",
    "[insert link]( ppt )\n",
    "\n",
    "#### Information Technology Inside an Organization\n",
    "![p1.png](https://github.com/mandarinJelly/Information-Systems/blob/master/Models%20and%20Diagrams/p1.png?raw=true)\n",
    "\n",
    "**IT infrastructure:** collection of IT assets that is used by all the department/users"
   ]
  },
  {
   "cell_type": "markdown",
   "metadata": {},
   "source": [
    "#### Types of Information Systems (IS)\n",
    "![p2.png](https://github.com/mandarinJelly/Information-Systems/blob/master/Models%20and%20Diagrams/p2.png?raw=true)\n",
    "\n",
    "_overview of IS: Organizations are restructuring their IT infrastructure in order to accomodate big data, innovations in AI and business developments._\n",
    "\n",
    "**black:** improve operational efficiency\n",
    "\n",
    "**yellow:** mainly use to help organizations to communicate to consumers and capture business opportunities \n",
    "\n",
    "**white:** decision-making support\n",
    "\n"
   ]
  },
  {
   "cell_type": "markdown",
   "metadata": {},
   "source": [
    "##### Reflection: Course Topics and Arrangement\n",
    "CBIS | Issues\n",
    "--- | ---\n",
    "IT Infrastructure (L2-L3) | How to acheive competitive advantage through IS? (L4)\n",
    "ES: L5 | \n",
    "IOS: L6 |\n",
    "Intelligent systems (L7) |\n",
    "Consumer facing IS (W8-10) | How to acquire IS? (L11)\n",
    "   | What is the dark side of IS? Ethical and security issues (L12)"
   ]
  },
  {
   "cell_type": "markdown",
   "metadata": {},
   "source": [
    "#### How does IT affect Organizations?\n",
    "* IT disrupts industries\n",
    "* IT impacts managers: reduce the number of jobs and change the nature of the jobs\n",
    "* IT affects employees at work: improve worker productivity while harming individual safety and health"
   ]
  },
  {
   "cell_type": "markdown",
   "metadata": {},
   "source": [
    "#### Case: Motorola Iridium Project\n",
    "\n",
    "**Brief on Motorola Inc.\"**\n",
    "* An American multinational telecommunications company\n",
    "* Lost $4.3 billion from 2007 to 2009\n",
    "* Divided into two independent public copanies: Motorola Mobility and Motorola Solutions in 2011\n",
    "* Motorola Mobility was acquired by Lenovo in 2014\n",
    "* Motorola's wireless telephone handset division was a pioneer in cellular telephones\n",
    "\n",
    "**Background:**\n",
    "* In the late 1980s, Motorola Inc. spun out a companycalled **Iridium** to capture the budding cell phone industry\n",
    "\n",
    "**Business Problem:**\n",
    "* Expensive mobile phone solutions were relatively easy to implement in urbance centers, but there was no comparable solution for regions outside major cities.\n",
    "\n",
    "**Solution**\n",
    "* A constellation of 77 satellites that would cover the globe. (Fun fact: Iridium is 77 on the periodic table)\n",
    "* The satellite network would quickly become profitable based on 1 million users, $3000 per cell phone, $5 usage fee per minute\n",
    "\n",
    "**Result**\n",
    "* Iridium failed spectacularly, ultimately costing its investors $5 billion\n",
    "\n",
    "##### What's wrong with Motorola's decision?\n",
    "exponential improvement of *computation-based* network system lagged the Iridium project behind; after investing on a satellite-based system\n",
    "\n",
    "**Reasons for failure**\n",
    "* the cost of installing cell phone towers declined\n",
    "* Network speeds increased\n",
    "* Handsets shrank in both size and price\n",
    "* All changed by orders of magnitude\n",
    "\n",
    "Linearly decreasing function | Exponentially decreasing function\n",
    "--- | ---\n",
    "![p3.png](https://github.com/mandarinJelly/Information-Systems/blob/master/Models%20and%20Diagrams/p3.png?raw=true) | ![p4.png](https://github.com/mandarinJelly/Information-Systems/blob/master/Models%20and%20Diagrams/p4.png?raw=true)\n",
    "\n",
    "Behind the scene is the powerful Moore's law:\n",
    "> Microprocessor complexity would double approximately every 18 months (Gordon Moore, co-founder of Intel, 1965)\n",
    "* This means: the performance/price of computation will double about every 18 months\n",
    "\n",
    "#### What's Iridium Moment?\n",
    "**A strategic blunder that could kill your company**\n",
    "\n",
    "A company may suffer from Iridium moment when there is a lack of understanding of the IT principles:\n",
    "* In the case of Motorola Iridium moment: Moore's Law\n",
    "\n",
    "The case illustrates the importance of understanding:\n",
    "* the impact of IT\n",
    "* A principle of IT"
   ]
  }
 ],
 "metadata": {
  "kernelspec": {
   "display_name": "Python 3",
   "language": "python",
   "name": "python3"
  },
  "language_info": {
   "codemirror_mode": {
    "name": "ipython",
    "version": 3
   },
   "file_extension": ".py",
   "mimetype": "text/x-python",
   "name": "python",
   "nbconvert_exporter": "python",
   "pygments_lexer": "ipython3",
   "version": "3.7.6"
  }
 },
 "nbformat": 4,
 "nbformat_minor": 4
}
